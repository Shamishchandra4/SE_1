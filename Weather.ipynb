{
  "nbformat": 4,
  "nbformat_minor": 0,
  "metadata": {
    "colab": {
      "provenance": [],
      "authorship_tag": "ABX9TyOJ0cWcLCARhJOHx3jMq8sK",
      "include_colab_link": true
    },
    "kernelspec": {
      "name": "python3",
      "display_name": "Python 3"
    },
    "language_info": {
      "name": "python"
    }
  },
  "cells": [
    {
      "cell_type": "markdown",
      "metadata": {
        "id": "view-in-github",
        "colab_type": "text"
      },
      "source": [
        "<a href=\"https://colab.research.google.com/github/Shamishchandra4/SE_1/blob/main/Weather.ipynb\" target=\"_parent\"><img src=\"https://colab.research.google.com/assets/colab-badge.svg\" alt=\"Open In Colab\"/></a>"
      ]
    },
    {
      "cell_type": "code",
      "execution_count": 3,
      "metadata": {
        "colab": {
          "base_uri": "https://localhost:8080/"
        },
        "id": "y2prQ4dvEwlD",
        "outputId": "a276be82-74b5-4755-a6fa-6fe176c47d58"
      },
      "outputs": [
        {
          "output_type": "stream",
          "name": "stdout",
          "text": [
            "Select an option to proceed:\n",
            "1: Hard-Coded Variables\n",
            "2: Keyboard Input\n",
            "3: Read from a File\n",
            "4: Single Set of Inputs\n",
            "5: Multiple Sets of Inputs\n",
            "Enter the number corresponding to the method: 2\n",
            "Enter Temperature (°C): 10\n",
            "Enter Humidity (%): 11\n",
            "Enter Wind Speed (km/h): 111\n",
            "Weather Index: 43.9, Weather Category: Sunny\n"
          ]
        }
      ],
      "source": [
        "def calculate_weather_index(T, H, W):\n",
        "    return (0.5 * T**2) - (0.2 * H) + (0.1 * W) - 15\n",
        "\n",
        "def classify_weather(index):\n",
        "    if index > 25:\n",
        "        return \"Sunny\"\n",
        "    elif index > 15:\n",
        "        return \"Cloudy\"\n",
        "    elif index > 5:\n",
        "        return \"Rainy\"\n",
        "    elif index > -5:\n",
        "        return \"Stormy\"\n",
        "    return \"Snow\"\n",
        "\n",
        "def hardcoded_method():\n",
        "    index = calculate_weather_index(25, 50, 10)\n",
        "    category = classify_weather(index)\n",
        "    print(f\"Weather Index: {round(index, 2)}, Weather Category: {category}\")\n",
        "\n",
        "def keyboard_method():\n",
        "    temperature = float(input(\"Enter Temperature (°C): \"))\n",
        "    humidity = float(input(\"Enter Humidity (%): \"))\n",
        "    wind_speed = float(input(\"Enter Wind Speed (km/h): \"))\n",
        "    index = calculate_weather_index(temperature, humidity, wind_speed)\n",
        "    category = classify_weather(index)\n",
        "    print(f\"Weather Index: {round(index, 2)}, Weather Category: {category}\")\n",
        "\n",
        "def file_method():\n",
        "    file_name = input(\"Enter the path of the input file: \")\n",
        "    try:\n",
        "        with open(file_name, \"r\") as file:\n",
        "            lines = file.readlines()\n",
        "            for i, line in enumerate(lines, 1):\n",
        "                try:\n",
        "                    T, H, W = map(float, line.split(\",\"))\n",
        "                    index = calculate_weather_index(T, H, W)\n",
        "                    category = classify_weather(index)\n",
        "                    print(f\"Line {i}: Weather Index: {round(index, 2)}, Weather Category: {category}\")\n",
        "                except ValueError:\n",
        "                    print(f\"Invalid input on line {i}: {line.strip()}\")\n",
        "    except FileNotFoundError:\n",
        "        print(\"File not found. Please check the file path and try again.\")\n",
        "\n",
        "def single_method():\n",
        "    temperature = float(input(\"Enter Temperature (°C): \"))\n",
        "    humidity = float(input(\"Enter Humidity (%): \"))\n",
        "    wind_speed = float(input(\"Enter Wind Speed (km/h): \"))\n",
        "    index = calculate_weather_index(temperature, humidity, wind_speed)\n",
        "    category = classify_weather(index)\n",
        "    print(f\"Weather Index: {round(index, 2)}, Weather Category: {category}\")\n",
        "\n",
        "def multiple_method():\n",
        "    input_data = input(\"Enter multiple sets of values (Temperature, Humidity, Wind Speed) separated by commas, one per line. Type 'done' when finished:\\n\")\n",
        "    while input_data.lower() != 'done':\n",
        "        lines = input_data.strip().splitlines()\n",
        "        for i, line in enumerate(lines, 1):\n",
        "            try:\n",
        "                T, H, W = map(float, line.split(\",\"))\n",
        "                index = calculate_weather_index(T, H, W)\n",
        "                category = classify_weather(index)\n",
        "                print(f\"Set {i}: Weather Index: {round(index, 2)}, Weather Category: {category}\")\n",
        "            except ValueError:\n",
        "                print(f\"Invalid input on line {i}: {line}\")\n",
        "        input_data = input(\"Enter another set of values or 'done' to finish:\\n\")\n",
        "\n",
        "def main():\n",
        "    print(\"Select an option to proceed:\")\n",
        "    print(\"1: Hard-Coded Variables\")\n",
        "    print(\"2: Keyboard Input\")\n",
        "    print(\"3: Read from a File\")\n",
        "    print(\"4: Single Set of Inputs\")\n",
        "    print(\"5: Multiple Sets of Inputs\")\n",
        "\n",
        "    method = input(\"Enter the number corresponding to the method: \").strip()\n",
        "\n",
        "    if method == \"1\":\n",
        "        hardcoded_method()\n",
        "    elif method == \"2\":\n",
        "        keyboard_method()\n",
        "    elif method == \"3\":\n",
        "        file_method()\n",
        "    elif method == \"4\":\n",
        "        single_method()\n",
        "    elif method == \"5\":\n",
        "        multiple_method()\n",
        "    else:\n",
        "        print(\"Invalid option. Please choose a valid number (1-5).\")\n",
        "\n",
        "if __name__ == \"__main__\":\n",
        "    main()\n"
      ]
    }
  ]
}